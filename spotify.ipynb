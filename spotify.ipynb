{
 "cells": [
  {
   "cell_type": "code",
   "execution_count": 1,
   "id": "3e3bb805",
   "metadata": {},
   "outputs": [],
   "source": [
    "import pandas as pd\n",
    "import matplotlib.pyplot as plt\n",
    "import seaborn as sns"
   ]
  },
  {
   "cell_type": "code",
   "execution_count": 2,
   "id": "f0a367f0",
   "metadata": {},
   "outputs": [],
   "source": [
    "data_2010s = pd.read_csv('dataset/dataset-of-10s.csv')\n",
    "data_2000s = pd.read_csv('dataset/dataset-of-00s.csv')\n",
    "data_1990s = pd.read_csv('dataset/dataset-of-90s.csv')\n",
    "data_1980s = pd.read_csv('dataset/dataset-of-80s.csv')"
   ]
  },
  {
   "cell_type": "code",
   "execution_count": 23,
   "id": "9bfc9bb2",
   "metadata": {
    "collapsed": true
   },
   "outputs": [
    {
     "data": {
      "text/plain": [
       "track               0\n",
       "artist              0\n",
       "uri                 0\n",
       "danceability        0\n",
       "energy              0\n",
       "key                 0\n",
       "loudness            0\n",
       "mode                0\n",
       "speechiness         0\n",
       "acousticness        0\n",
       "instrumentalness    0\n",
       "liveness            0\n",
       "valence             0\n",
       "tempo               0\n",
       "duration_ms         0\n",
       "time_signature      0\n",
       "chorus_hit          0\n",
       "sections            0\n",
       "target              0\n",
       "dtype: int64"
      ]
     },
     "execution_count": 23,
     "metadata": {},
     "output_type": "execute_result"
    }
   ],
   "source": [
    "data_2010s.isnull().sum()"
   ]
  },
  {
   "cell_type": "code",
   "execution_count": 24,
   "id": "4d88e9dc",
   "metadata": {
    "collapsed": true
   },
   "outputs": [
    {
     "data": {
      "text/plain": [
       "track               0\n",
       "artist              0\n",
       "uri                 0\n",
       "danceability        0\n",
       "energy              0\n",
       "key                 0\n",
       "loudness            0\n",
       "mode                0\n",
       "speechiness         0\n",
       "acousticness        0\n",
       "instrumentalness    0\n",
       "liveness            0\n",
       "valence             0\n",
       "tempo               0\n",
       "duration_ms         0\n",
       "time_signature      0\n",
       "chorus_hit          0\n",
       "sections            0\n",
       "target              0\n",
       "dtype: int64"
      ]
     },
     "execution_count": 24,
     "metadata": {},
     "output_type": "execute_result"
    }
   ],
   "source": [
    "data_2000s.isnull().sum()"
   ]
  },
  {
   "cell_type": "code",
   "execution_count": 25,
   "id": "df505010",
   "metadata": {
    "collapsed": true
   },
   "outputs": [
    {
     "data": {
      "text/plain": [
       "track               0\n",
       "artist              0\n",
       "uri                 0\n",
       "danceability        0\n",
       "energy              0\n",
       "key                 0\n",
       "loudness            0\n",
       "mode                0\n",
       "speechiness         0\n",
       "acousticness        0\n",
       "instrumentalness    0\n",
       "liveness            0\n",
       "valence             0\n",
       "tempo               0\n",
       "duration_ms         0\n",
       "time_signature      0\n",
       "chorus_hit          0\n",
       "sections            0\n",
       "target              0\n",
       "dtype: int64"
      ]
     },
     "execution_count": 25,
     "metadata": {},
     "output_type": "execute_result"
    }
   ],
   "source": [
    "data_1990s.isnull().sum()"
   ]
  },
  {
   "cell_type": "code",
   "execution_count": 26,
   "id": "25ffd934",
   "metadata": {
    "collapsed": true
   },
   "outputs": [
    {
     "data": {
      "text/plain": [
       "track               0\n",
       "artist              0\n",
       "uri                 0\n",
       "danceability        0\n",
       "energy              0\n",
       "key                 0\n",
       "loudness            0\n",
       "mode                0\n",
       "speechiness         0\n",
       "acousticness        0\n",
       "instrumentalness    0\n",
       "liveness            0\n",
       "valence             0\n",
       "tempo               0\n",
       "duration_ms         0\n",
       "time_signature      0\n",
       "chorus_hit          0\n",
       "sections            0\n",
       "target              0\n",
       "dtype: int64"
      ]
     },
     "execution_count": 26,
     "metadata": {},
     "output_type": "execute_result"
    }
   ],
   "source": [
    "data_1980s.isnull().sum()"
   ]
  },
  {
   "cell_type": "code",
   "execution_count": 11,
   "id": "d1b09155",
   "metadata": {},
   "outputs": [],
   "source": [
    "data_2010s_hit = data_2010s[data_2010s[\"target\"] == 1]\n",
    "data_2010s_flop = data_2010s[data_2010s[\"target\"] == 0]"
   ]
  },
  {
   "cell_type": "code",
   "execution_count": 13,
   "id": "12b26bc4",
   "metadata": {},
   "outputs": [
    {
     "data": {
      "text/html": [
       "<div>\n",
       "<style scoped>\n",
       "    .dataframe tbody tr th:only-of-type {\n",
       "        vertical-align: middle;\n",
       "    }\n",
       "\n",
       "    .dataframe tbody tr th {\n",
       "        vertical-align: top;\n",
       "    }\n",
       "\n",
       "    .dataframe thead th {\n",
       "        text-align: right;\n",
       "    }\n",
       "</style>\n",
       "<table border=\"1\" class=\"dataframe\">\n",
       "  <thead>\n",
       "    <tr style=\"text-align: right;\">\n",
       "      <th></th>\n",
       "      <th>danceability</th>\n",
       "      <th>energy</th>\n",
       "      <th>key</th>\n",
       "      <th>loudness</th>\n",
       "      <th>mode</th>\n",
       "      <th>speechiness</th>\n",
       "      <th>acousticness</th>\n",
       "      <th>instrumentalness</th>\n",
       "      <th>liveness</th>\n",
       "      <th>valence</th>\n",
       "      <th>tempo</th>\n",
       "      <th>duration_ms</th>\n",
       "      <th>time_signature</th>\n",
       "      <th>chorus_hit</th>\n",
       "      <th>sections</th>\n",
       "      <th>target</th>\n",
       "    </tr>\n",
       "  </thead>\n",
       "  <tbody>\n",
       "    <tr>\n",
       "      <th>count</th>\n",
       "      <td>3199.000000</td>\n",
       "      <td>3199.000000</td>\n",
       "      <td>3199.000000</td>\n",
       "      <td>3199.000000</td>\n",
       "      <td>3199.000000</td>\n",
       "      <td>3199.000000</td>\n",
       "      <td>3199.000000</td>\n",
       "      <td>3199.000000</td>\n",
       "      <td>3199.000000</td>\n",
       "      <td>3199.000000</td>\n",
       "      <td>3199.000000</td>\n",
       "      <td>3199.000000</td>\n",
       "      <td>3199.000000</td>\n",
       "      <td>3199.000000</td>\n",
       "      <td>3199.000000</td>\n",
       "      <td>3199.0</td>\n",
       "    </tr>\n",
       "    <tr>\n",
       "      <th>mean</th>\n",
       "      <td>0.641633</td>\n",
       "      <td>0.682367</td>\n",
       "      <td>5.303532</td>\n",
       "      <td>-5.875753</td>\n",
       "      <td>0.660832</td>\n",
       "      <td>0.107524</td>\n",
       "      <td>0.162173</td>\n",
       "      <td>0.006057</td>\n",
       "      <td>0.186298</td>\n",
       "      <td>0.493813</td>\n",
       "      <td>123.524576</td>\n",
       "      <td>220502.664270</td>\n",
       "      <td>3.979056</td>\n",
       "      <td>39.353687</td>\n",
       "      <td>9.888403</td>\n",
       "      <td>1.0</td>\n",
       "    </tr>\n",
       "    <tr>\n",
       "      <th>std</th>\n",
       "      <td>0.142438</td>\n",
       "      <td>0.166443</td>\n",
       "      <td>3.635618</td>\n",
       "      <td>2.203026</td>\n",
       "      <td>0.473501</td>\n",
       "      <td>0.106353</td>\n",
       "      <td>0.206048</td>\n",
       "      <td>0.051523</td>\n",
       "      <td>0.144925</td>\n",
       "      <td>0.216325</td>\n",
       "      <td>29.052186</td>\n",
       "      <td>43628.031893</td>\n",
       "      <td>0.266774</td>\n",
       "      <td>17.469300</td>\n",
       "      <td>2.464581</td>\n",
       "      <td>0.0</td>\n",
       "    </tr>\n",
       "    <tr>\n",
       "      <th>min</th>\n",
       "      <td>0.201000</td>\n",
       "      <td>0.056100</td>\n",
       "      <td>0.000000</td>\n",
       "      <td>-23.023000</td>\n",
       "      <td>0.000000</td>\n",
       "      <td>0.022500</td>\n",
       "      <td>0.000025</td>\n",
       "      <td>0.000000</td>\n",
       "      <td>0.016700</td>\n",
       "      <td>0.035200</td>\n",
       "      <td>48.718000</td>\n",
       "      <td>59387.000000</td>\n",
       "      <td>1.000000</td>\n",
       "      <td>13.733290</td>\n",
       "      <td>3.000000</td>\n",
       "      <td>1.0</td>\n",
       "    </tr>\n",
       "    <tr>\n",
       "      <th>25%</th>\n",
       "      <td>0.547000</td>\n",
       "      <td>0.573000</td>\n",
       "      <td>2.000000</td>\n",
       "      <td>-6.972000</td>\n",
       "      <td>0.000000</td>\n",
       "      <td>0.038300</td>\n",
       "      <td>0.020550</td>\n",
       "      <td>0.000000</td>\n",
       "      <td>0.097000</td>\n",
       "      <td>0.325000</td>\n",
       "      <td>99.967000</td>\n",
       "      <td>195125.000000</td>\n",
       "      <td>4.000000</td>\n",
       "      <td>27.890200</td>\n",
       "      <td>8.000000</td>\n",
       "      <td>1.0</td>\n",
       "    </tr>\n",
       "    <tr>\n",
       "      <th>50%</th>\n",
       "      <td>0.645000</td>\n",
       "      <td>0.704000</td>\n",
       "      <td>6.000000</td>\n",
       "      <td>-5.567000</td>\n",
       "      <td>1.000000</td>\n",
       "      <td>0.058600</td>\n",
       "      <td>0.073600</td>\n",
       "      <td>0.000000</td>\n",
       "      <td>0.127000</td>\n",
       "      <td>0.487000</td>\n",
       "      <td>123.815000</td>\n",
       "      <td>216573.000000</td>\n",
       "      <td>4.000000</td>\n",
       "      <td>35.158990</td>\n",
       "      <td>10.000000</td>\n",
       "      <td>1.0</td>\n",
       "    </tr>\n",
       "    <tr>\n",
       "      <th>75%</th>\n",
       "      <td>0.741000</td>\n",
       "      <td>0.809000</td>\n",
       "      <td>8.000000</td>\n",
       "      <td>-4.389000</td>\n",
       "      <td>1.000000</td>\n",
       "      <td>0.132500</td>\n",
       "      <td>0.221000</td>\n",
       "      <td>0.000011</td>\n",
       "      <td>0.231000</td>\n",
       "      <td>0.654500</td>\n",
       "      <td>142.673000</td>\n",
       "      <td>239673.000000</td>\n",
       "      <td>4.000000</td>\n",
       "      <td>46.203670</td>\n",
       "      <td>11.000000</td>\n",
       "      <td>1.0</td>\n",
       "    </tr>\n",
       "    <tr>\n",
       "      <th>max</th>\n",
       "      <td>0.981000</td>\n",
       "      <td>0.991000</td>\n",
       "      <td>11.000000</td>\n",
       "      <td>-0.716000</td>\n",
       "      <td>1.000000</td>\n",
       "      <td>0.733000</td>\n",
       "      <td>0.992000</td>\n",
       "      <td>0.961000</td>\n",
       "      <td>0.979000</td>\n",
       "      <td>0.976000</td>\n",
       "      <td>208.067000</td>\n",
       "      <td>688453.000000</td>\n",
       "      <td>5.000000</td>\n",
       "      <td>213.154990</td>\n",
       "      <td>24.000000</td>\n",
       "      <td>1.0</td>\n",
       "    </tr>\n",
       "  </tbody>\n",
       "</table>\n",
       "</div>"
      ],
      "text/plain": [
       "       danceability       energy          key     loudness         mode  \\\n",
       "count   3199.000000  3199.000000  3199.000000  3199.000000  3199.000000   \n",
       "mean       0.641633     0.682367     5.303532    -5.875753     0.660832   \n",
       "std        0.142438     0.166443     3.635618     2.203026     0.473501   \n",
       "min        0.201000     0.056100     0.000000   -23.023000     0.000000   \n",
       "25%        0.547000     0.573000     2.000000    -6.972000     0.000000   \n",
       "50%        0.645000     0.704000     6.000000    -5.567000     1.000000   \n",
       "75%        0.741000     0.809000     8.000000    -4.389000     1.000000   \n",
       "max        0.981000     0.991000    11.000000    -0.716000     1.000000   \n",
       "\n",
       "       speechiness  acousticness  instrumentalness     liveness      valence  \\\n",
       "count  3199.000000   3199.000000       3199.000000  3199.000000  3199.000000   \n",
       "mean      0.107524      0.162173          0.006057     0.186298     0.493813   \n",
       "std       0.106353      0.206048          0.051523     0.144925     0.216325   \n",
       "min       0.022500      0.000025          0.000000     0.016700     0.035200   \n",
       "25%       0.038300      0.020550          0.000000     0.097000     0.325000   \n",
       "50%       0.058600      0.073600          0.000000     0.127000     0.487000   \n",
       "75%       0.132500      0.221000          0.000011     0.231000     0.654500   \n",
       "max       0.733000      0.992000          0.961000     0.979000     0.976000   \n",
       "\n",
       "             tempo    duration_ms  time_signature   chorus_hit     sections  \\\n",
       "count  3199.000000    3199.000000     3199.000000  3199.000000  3199.000000   \n",
       "mean    123.524576  220502.664270        3.979056    39.353687     9.888403   \n",
       "std      29.052186   43628.031893        0.266774    17.469300     2.464581   \n",
       "min      48.718000   59387.000000        1.000000    13.733290     3.000000   \n",
       "25%      99.967000  195125.000000        4.000000    27.890200     8.000000   \n",
       "50%     123.815000  216573.000000        4.000000    35.158990    10.000000   \n",
       "75%     142.673000  239673.000000        4.000000    46.203670    11.000000   \n",
       "max     208.067000  688453.000000        5.000000   213.154990    24.000000   \n",
       "\n",
       "       target  \n",
       "count  3199.0  \n",
       "mean      1.0  \n",
       "std       0.0  \n",
       "min       1.0  \n",
       "25%       1.0  \n",
       "50%       1.0  \n",
       "75%       1.0  \n",
       "max       1.0  "
      ]
     },
     "execution_count": 13,
     "metadata": {},
     "output_type": "execute_result"
    }
   ],
   "source": [
    "data_2010s_hit.describe()"
   ]
  },
  {
   "cell_type": "code",
   "execution_count": 14,
   "id": "42581ccf",
   "metadata": {
    "scrolled": false
   },
   "outputs": [
    {
     "data": {
      "text/html": [
       "<div>\n",
       "<style scoped>\n",
       "    .dataframe tbody tr th:only-of-type {\n",
       "        vertical-align: middle;\n",
       "    }\n",
       "\n",
       "    .dataframe tbody tr th {\n",
       "        vertical-align: top;\n",
       "    }\n",
       "\n",
       "    .dataframe thead th {\n",
       "        text-align: right;\n",
       "    }\n",
       "</style>\n",
       "<table border=\"1\" class=\"dataframe\">\n",
       "  <thead>\n",
       "    <tr style=\"text-align: right;\">\n",
       "      <th></th>\n",
       "      <th>danceability</th>\n",
       "      <th>energy</th>\n",
       "      <th>key</th>\n",
       "      <th>loudness</th>\n",
       "      <th>mode</th>\n",
       "      <th>speechiness</th>\n",
       "      <th>acousticness</th>\n",
       "      <th>instrumentalness</th>\n",
       "      <th>liveness</th>\n",
       "      <th>valence</th>\n",
       "      <th>tempo</th>\n",
       "      <th>duration_ms</th>\n",
       "      <th>time_signature</th>\n",
       "      <th>chorus_hit</th>\n",
       "      <th>sections</th>\n",
       "      <th>target</th>\n",
       "    </tr>\n",
       "  </thead>\n",
       "  <tbody>\n",
       "    <tr>\n",
       "      <th>count</th>\n",
       "      <td>3199.000000</td>\n",
       "      <td>3199.000000</td>\n",
       "      <td>3199.000000</td>\n",
       "      <td>3199.000000</td>\n",
       "      <td>3199.000000</td>\n",
       "      <td>3199.000000</td>\n",
       "      <td>3199.000000</td>\n",
       "      <td>3199.000000</td>\n",
       "      <td>3199.000000</td>\n",
       "      <td>3199.000000</td>\n",
       "      <td>3199.000000</td>\n",
       "      <td>3.199000e+03</td>\n",
       "      <td>3199.000000</td>\n",
       "      <td>3199.000000</td>\n",
       "      <td>3199.000000</td>\n",
       "      <td>3199.0</td>\n",
       "    </tr>\n",
       "    <tr>\n",
       "      <th>mean</th>\n",
       "      <td>0.494692</td>\n",
       "      <td>0.653146</td>\n",
       "      <td>5.263520</td>\n",
       "      <td>-9.303840</td>\n",
       "      <td>0.630197</td>\n",
       "      <td>0.088512</td>\n",
       "      <td>0.271684</td>\n",
       "      <td>0.324528</td>\n",
       "      <td>0.207102</td>\n",
       "      <td>0.393656</td>\n",
       "      <td>121.183166</td>\n",
       "      <td>2.529058e+05</td>\n",
       "      <td>3.882776</td>\n",
       "      <td>42.703110</td>\n",
       "      <td>10.744608</td>\n",
       "      <td>0.0</td>\n",
       "    </tr>\n",
       "    <tr>\n",
       "      <th>std</th>\n",
       "      <td>0.204851</td>\n",
       "      <td>0.296280</td>\n",
       "      <td>3.577029</td>\n",
       "      <td>6.639234</td>\n",
       "      <td>0.482827</td>\n",
       "      <td>0.086118</td>\n",
       "      <td>0.357485</td>\n",
       "      <td>0.387085</td>\n",
       "      <td>0.184389</td>\n",
       "      <td>0.262710</td>\n",
       "      <td>30.581700</td>\n",
       "      <td>1.106396e+05</td>\n",
       "      <td>0.457390</td>\n",
       "      <td>21.335656</td>\n",
       "      <td>4.698953</td>\n",
       "      <td>0.0</td>\n",
       "    </tr>\n",
       "    <tr>\n",
       "      <th>min</th>\n",
       "      <td>0.062200</td>\n",
       "      <td>0.000251</td>\n",
       "      <td>0.000000</td>\n",
       "      <td>-46.655000</td>\n",
       "      <td>0.000000</td>\n",
       "      <td>0.023600</td>\n",
       "      <td>0.000000</td>\n",
       "      <td>0.000000</td>\n",
       "      <td>0.019900</td>\n",
       "      <td>0.000000</td>\n",
       "      <td>39.369000</td>\n",
       "      <td>2.985300e+04</td>\n",
       "      <td>0.000000</td>\n",
       "      <td>0.000000</td>\n",
       "      <td>2.000000</td>\n",
       "      <td>0.0</td>\n",
       "    </tr>\n",
       "    <tr>\n",
       "      <th>25%</th>\n",
       "      <td>0.335000</td>\n",
       "      <td>0.454000</td>\n",
       "      <td>2.000000</td>\n",
       "      <td>-11.079500</td>\n",
       "      <td>0.000000</td>\n",
       "      <td>0.039200</td>\n",
       "      <td>0.001090</td>\n",
       "      <td>0.000036</td>\n",
       "      <td>0.096500</td>\n",
       "      <td>0.167000</td>\n",
       "      <td>97.508000</td>\n",
       "      <td>1.900000e+05</td>\n",
       "      <td>4.000000</td>\n",
       "      <td>28.379785</td>\n",
       "      <td>8.000000</td>\n",
       "      <td>0.0</td>\n",
       "    </tr>\n",
       "    <tr>\n",
       "      <th>50%</th>\n",
       "      <td>0.499000</td>\n",
       "      <td>0.731000</td>\n",
       "      <td>5.000000</td>\n",
       "      <td>-7.178000</td>\n",
       "      <td>1.000000</td>\n",
       "      <td>0.056100</td>\n",
       "      <td>0.051900</td>\n",
       "      <td>0.038500</td>\n",
       "      <td>0.124000</td>\n",
       "      <td>0.357000</td>\n",
       "      <td>119.993000</td>\n",
       "      <td>2.307040e+05</td>\n",
       "      <td>4.000000</td>\n",
       "      <td>37.475030</td>\n",
       "      <td>10.000000</td>\n",
       "      <td>0.0</td>\n",
       "    </tr>\n",
       "    <tr>\n",
       "      <th>75%</th>\n",
       "      <td>0.651000</td>\n",
       "      <td>0.916000</td>\n",
       "      <td>8.000000</td>\n",
       "      <td>-4.936500</td>\n",
       "      <td>1.000000</td>\n",
       "      <td>0.098800</td>\n",
       "      <td>0.528000</td>\n",
       "      <td>0.786000</td>\n",
       "      <td>0.271000</td>\n",
       "      <td>0.594000</td>\n",
       "      <td>140.009500</td>\n",
       "      <td>2.899545e+05</td>\n",
       "      <td>4.000000</td>\n",
       "      <td>50.938510</td>\n",
       "      <td>12.000000</td>\n",
       "      <td>0.0</td>\n",
       "    </tr>\n",
       "    <tr>\n",
       "      <th>max</th>\n",
       "      <td>0.969000</td>\n",
       "      <td>0.999000</td>\n",
       "      <td>11.000000</td>\n",
       "      <td>-0.149000</td>\n",
       "      <td>1.000000</td>\n",
       "      <td>0.956000</td>\n",
       "      <td>0.996000</td>\n",
       "      <td>0.995000</td>\n",
       "      <td>0.982000</td>\n",
       "      <td>0.975000</td>\n",
       "      <td>210.977000</td>\n",
       "      <td>1.734201e+06</td>\n",
       "      <td>5.000000</td>\n",
       "      <td>185.939400</td>\n",
       "      <td>88.000000</td>\n",
       "      <td>0.0</td>\n",
       "    </tr>\n",
       "  </tbody>\n",
       "</table>\n",
       "</div>"
      ],
      "text/plain": [
       "       danceability       energy          key     loudness         mode  \\\n",
       "count   3199.000000  3199.000000  3199.000000  3199.000000  3199.000000   \n",
       "mean       0.494692     0.653146     5.263520    -9.303840     0.630197   \n",
       "std        0.204851     0.296280     3.577029     6.639234     0.482827   \n",
       "min        0.062200     0.000251     0.000000   -46.655000     0.000000   \n",
       "25%        0.335000     0.454000     2.000000   -11.079500     0.000000   \n",
       "50%        0.499000     0.731000     5.000000    -7.178000     1.000000   \n",
       "75%        0.651000     0.916000     8.000000    -4.936500     1.000000   \n",
       "max        0.969000     0.999000    11.000000    -0.149000     1.000000   \n",
       "\n",
       "       speechiness  acousticness  instrumentalness     liveness      valence  \\\n",
       "count  3199.000000   3199.000000       3199.000000  3199.000000  3199.000000   \n",
       "mean      0.088512      0.271684          0.324528     0.207102     0.393656   \n",
       "std       0.086118      0.357485          0.387085     0.184389     0.262710   \n",
       "min       0.023600      0.000000          0.000000     0.019900     0.000000   \n",
       "25%       0.039200      0.001090          0.000036     0.096500     0.167000   \n",
       "50%       0.056100      0.051900          0.038500     0.124000     0.357000   \n",
       "75%       0.098800      0.528000          0.786000     0.271000     0.594000   \n",
       "max       0.956000      0.996000          0.995000     0.982000     0.975000   \n",
       "\n",
       "             tempo   duration_ms  time_signature   chorus_hit     sections  \\\n",
       "count  3199.000000  3.199000e+03     3199.000000  3199.000000  3199.000000   \n",
       "mean    121.183166  2.529058e+05        3.882776    42.703110    10.744608   \n",
       "std      30.581700  1.106396e+05        0.457390    21.335656     4.698953   \n",
       "min      39.369000  2.985300e+04        0.000000     0.000000     2.000000   \n",
       "25%      97.508000  1.900000e+05        4.000000    28.379785     8.000000   \n",
       "50%     119.993000  2.307040e+05        4.000000    37.475030    10.000000   \n",
       "75%     140.009500  2.899545e+05        4.000000    50.938510    12.000000   \n",
       "max     210.977000  1.734201e+06        5.000000   185.939400    88.000000   \n",
       "\n",
       "       target  \n",
       "count  3199.0  \n",
       "mean      0.0  \n",
       "std       0.0  \n",
       "min       0.0  \n",
       "25%       0.0  \n",
       "50%       0.0  \n",
       "75%       0.0  \n",
       "max       0.0  "
      ]
     },
     "execution_count": 14,
     "metadata": {},
     "output_type": "execute_result"
    }
   ],
   "source": [
    "data_2010s_flop.describe()"
   ]
  },
  {
   "cell_type": "code",
   "execution_count": 20,
   "id": "c9d85e37",
   "metadata": {
    "collapsed": true
   },
   "outputs": [
    {
     "data": {
      "image/png": "[encoded data removed]",
      "text/plain": [
       "<Figure size 1440x720 with 1 Axes>"
      ]
     },
     "metadata": {
      "needs_background": "light"
     },
     "output_type": "display_data"
    },
    {
     "data": {
      "image/png": "[encoded data removed]",
      "text/plain": [
       "<Figure size 1440x720 with 1 Axes>"
      ]
     },
     "metadata": {
      "needs_background": "light"
     },
     "output_type": "display_data"
    }
   ],
   "source": [
    "plt.rcParams['figure.figsize']=(20,10)\n",
    "data_2010s_hit.iloc[:, :13].plot(kind='box', title='hits')\n",
    "data_2010s_flop.iloc[:, :13].plot(kind='box', title='flop')\n",
    "plt.show();"
   ]
  },
  {
   "cell_type": "code",
   "execution_count": null,
   "id": "2c8b7c70",
   "metadata": {},
   "outputs": [],
   "source": [
    "sns.violinplot(x=\"sections\", y=\"energy\", hue=\"target\", data=data, palette=\"muted\")"
   ]
  },
  {
   "cell_type": "code",
   "execution_count": null,
   "id": "8b590562",
   "metadata": {},
   "outputs": [],
   "source": [
    "data = pd.read_csv('dataset-of-10s.csv')"
   ]
  },
  {
   "cell_type": "code",
   "execution_count": null,
   "id": "24871736",
   "metadata": {},
   "outputs": [],
   "source": [
    "data.head(5)"
   ]
  },
  {
   "cell_type": "code",
   "execution_count": null,
   "id": "2825c7e0",
   "metadata": {},
   "outputs": [],
   "source": [
    "data.describe()"
   ]
  },
  {
   "cell_type": "code",
   "execution_count": null,
   "id": "60a4775b",
   "metadata": {},
   "outputs": [],
   "source": [
    "hit = data[data['target'] == 1]"
   ]
  },
  {
   "cell_type": "code",
   "execution_count": null,
   "id": "3d4c476e",
   "metadata": {},
   "outputs": [],
   "source": [
    "not_hit = data[data['target'] == 0]"
   ]
  },
  {
   "cell_type": "code",
   "execution_count": null,
   "id": "8e9a0b73",
   "metadata": {},
   "outputs": [],
   "source": [
    "hit.describe()"
   ]
  },
  {
   "cell_type": "code",
   "execution_count": null,
   "id": "6f766a64",
   "metadata": {},
   "outputs": [],
   "source": [
    "not_hit.describe()"
   ]
  },
  {
   "cell_type": "code",
   "execution_count": null,
   "id": "e36b5285",
   "metadata": {},
   "outputs": [],
   "source": [
    "import seaborn as sns\n",
    "sns.set_theme(style=\"whitegrid\")\n",
    "tips = sns.load_dataset(\"tips\")\n",
    "ax = sns.violinplot(x=tips[\"total_bill\"])"
   ]
  },
  {
   "cell_type": "code",
   "execution_count": null,
   "id": "85065a16",
   "metadata": {},
   "outputs": [],
   "source": [
    "data['sections'].unique()"
   ]
  },
  {
   "cell_type": "code",
   "execution_count": null,
   "id": "2f85184c",
   "metadata": {},
   "outputs": [],
   "source": [
    "sns.violinplot(x=\"sections\", y=\"energy\", hue=\"target\", data=data, palette=\"muted\")"
   ]
  },
  {
   "cell_type": "code",
   "execution_count": null,
   "id": "15bc91de",
   "metadata": {},
   "outputs": [],
   "source": [
    "tips"
   ]
  },
  {
   "cell_type": "code",
   "execution_count": null,
   "id": "e95c5a89",
   "metadata": {},
   "outputs": [],
   "source": [
    "sns.violinplot(x=\"day\", y=\"total_bill\", hue=\"smoker\",\n",
    "                    data=tips, palette=\"muted\")"
   ]
  },
  {
   "cell_type": "code",
   "execution_count": null,
   "id": "b533f0f2",
   "metadata": {},
   "outputs": [],
   "source": [
    "# 장르 구분 어떻게 했는지 찾기\n",
    "# EDA 어떻게 해야하는지 좀 더 생각해보기"
   ]
  }
 ],
 "metadata": {
  "kernelspec": {
   "display_name": "Python 3",
   "language": "python",
   "name": "python3"
  },
  "language_info": {
   "codemirror_mode": {
    "name": "ipython",
    "version": 3
   },
   "file_extension": ".py",
   "mimetype": "text/x-python",
   "name": "python",
   "nbconvert_exporter": "python",
   "pygments_lexer": "ipython3",
   "version": "3.8.6"
  }
 },
 "nbformat": 4,
 "nbformat_minor": 5
}
